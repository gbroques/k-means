{
 "cells": [
  {
   "cell_type": "markdown",
   "metadata": {},
   "source": [
    "# Bisecting K-Means Clustering"
   ]
  },
  {
   "cell_type": "markdown",
   "metadata": {},
   "source": [
    "First, we setup some imports."
   ]
  },
  {
   "cell_type": "code",
   "execution_count": 26,
   "metadata": {
    "collapsed": true
   },
   "outputs": [],
   "source": [
    "from typing import List, Tuple\n",
    "\n",
    "from dataviz import generate_clusters\n",
    "from dataviz import plot_clusters\n",
    "from kmeans import BisectingKMeans\n",
    "from kmeans.kmeans import get_inter_cluster_distances"
   ]
  },
  {
   "cell_type": "markdown",
   "metadata": {},
   "source": [
    "Then we write a function to generate 20 random two-dimensional points in the range [1, 100]."
   ]
  },
  {
   "cell_type": "code",
   "execution_count": 27,
   "metadata": {
    "collapsed": true
   },
   "outputs": [],
   "source": [
    "def generate_data(num_clusters: int, seed=None) -> List[List]:\n",
    "    num_points = 20\n",
    "    spread = 7\n",
    "    bounds = (1, 100)\n",
    "    return generate_clusters(num_clusters, num_points, spread, bounds, bounds, seed)"
   ]
  },
  {
   "cell_type": "markdown",
   "metadata": {},
   "source": [
    "## k = 2"
   ]
  },
  {
   "cell_type": "markdown",
   "metadata": {},
   "source": [
    "### Euclidean Distance"
   ]
  },
  {
   "cell_type": "code",
   "execution_count": 28,
   "metadata": {},
   "outputs": [
    {
     "data": {
      "image/png": "[encoded data removed]",
      "text/plain": [
       "<matplotlib.figure.Figure at 0x7fbc3f2b2eb8>"
      ]
     },
     "metadata": {},
     "output_type": "display_data"
    }
   ],
   "source": [
    "num_clusters = 2\n",
    "clusters = generate_data(num_clusters, seed=1)\n",
    "k_means = BisectingKMeans(num_clusters=num_clusters, seed=1)\n",
    "k_means.fit(clusters)\n",
    "plot_clusters(clusters, k_means.labels_, k_means.centroids_)"
   ]
  },
  {
   "cell_type": "code",
   "execution_count": 29,
   "metadata": {},
   "outputs": [
    {
     "name": "stdout",
     "output_type": "stream",
     "text": [
      "Total SSE: 324.047252480222\n"
     ]
    }
   ],
   "source": [
    "print('Total SSE: {}'.format(k_means.inertia_))"
   ]
  },
  {
   "cell_type": "markdown",
   "metadata": {},
   "source": [
    "Let's write a quick helper function to print out the SSE per cluster."
   ]
  },
  {
   "cell_type": "code",
   "execution_count": 30,
   "metadata": {
    "collapsed": true
   },
   "outputs": [],
   "source": [
    "def print_cluster_sse(cluster_sse: List[float]) -> None:\n",
    "    for i, sse in enumerate(cluster_sse):\n",
    "        print('Cluster {} SSE: {}'.format(i, sse))"
   ]
  },
  {
   "cell_type": "code",
   "execution_count": 31,
   "metadata": {},
   "outputs": [
    {
     "name": "stdout",
     "output_type": "stream",
     "text": [
      "Cluster 0 SSE: 177.9374316123801\n",
      "Cluster 1 SSE: 146.1098208678419\n"
     ]
    }
   ],
   "source": [
    "print_cluster_sse(k_means.inertia_per_cluster_)"
   ]
  },
  {
   "cell_type": "markdown",
   "metadata": {},
   "source": [
    "Let's also write some helper functions to print out the max and min inter-cluster distances."
   ]
  },
  {
   "cell_type": "code",
   "execution_count": 32,
   "metadata": {},
   "outputs": [],
   "source": [
    "def get_max_and_min_inter_cluster_distances(data,\n",
    "                                            labels,\n",
    "                                            distance_function='euclidean'):\n",
    "    args = (data, labels, distance_function)\n",
    "    inter_cluster_distances = get_inter_cluster_distances(*args)\n",
    "    return max(inter_cluster_distances), min(inter_cluster_distances)\n",
    "\n",
    "def print_max_and_min_inter_cluster_distances(data,\n",
    "                                              labels,\n",
    "                                              distance_function='euclidean'):\n",
    "    args = (data, labels, distance_function)\n",
    "    max_dist, min_dist = get_max_and_min_inter_cluster_distances(*args)\n",
    "    print('Max inter-cluster distance: {}'.format(max_dist))\n",
    "    print('Min inter-cluster distance: {}'.format(min_dist))"
   ]
  },
  {
   "cell_type": "code",
   "execution_count": 33,
   "metadata": {},
   "outputs": [
    {
     "name": "stdout",
     "output_type": "stream",
     "text": [
      "Max inter-cluster distance: 8939.592569818646\n",
      "Min inter-cluster distance: 6215.498092277565\n"
     ]
    }
   ],
   "source": [
    "print_max_and_min_inter_cluster_distances(clusters, k_means.labels_)"
   ]
  },
  {
   "cell_type": "markdown",
   "metadata": {},
   "source": [
    "### Manhattan Distance"
   ]
  },
  {
   "cell_type": "code",
   "execution_count": 34,
   "metadata": {},
   "outputs": [
    {
     "data": {
      "image/png": "[encoded data removed]",
      "text/plain": [
       "<matplotlib.figure.Figure at 0x7fbc3f2cf940>"
      ]
     },
     "metadata": {},
     "output_type": "display_data"
    }
   ],
   "source": [
    "num_clusters = 2\n",
    "k_means = BisectingKMeans(num_clusters=num_clusters,\n",
    "                          distance_function='manhattan',\n",
    "                          seed=1)\n",
    "k_means.fit(clusters)\n",
    "plot_clusters(clusters, k_means.labels_, k_means.centroids_)"
   ]
  },
  {
   "cell_type": "code",
   "execution_count": 35,
   "metadata": {},
   "outputs": [
    {
     "name": "stdout",
     "output_type": "stream",
     "text": [
      "Total SSE: 94.13626696820376\n"
     ]
    }
   ],
   "source": [
    "print('Total SSE: {}'.format(k_means.inertia_))"
   ]
  },
  {
   "cell_type": "code",
   "execution_count": 36,
   "metadata": {},
   "outputs": [
    {
     "name": "stdout",
     "output_type": "stream",
     "text": [
      "Cluster 0 SSE: 42.83723671157887\n",
      "Cluster 1 SSE: 51.29903025662488\n"
     ]
    }
   ],
   "source": [
    "print_cluster_sse(k_means.inertia_per_cluster_)"
   ]
  },
  {
   "cell_type": "code",
   "execution_count": 37,
   "metadata": {},
   "outputs": [
    {
     "name": "stdout",
     "output_type": "stream",
     "text": [
      "Max inter-cluster distance: 133.7118537708453\n",
      "Min inter-cluster distance: 111.1239235786854\n"
     ]
    }
   ],
   "source": [
    "print_max_and_min_inter_cluster_distances(clusters,\n",
    "                                          k_means.labels_,\n",
    "                                          distance_function='manhattan')"
   ]
  },
  {
   "cell_type": "markdown",
   "metadata": {},
   "source": [
    "## k = 4"
   ]
  },
  {
   "cell_type": "markdown",
   "metadata": {},
   "source": [
    "### Euclidean Distance"
   ]
  },
  {
   "cell_type": "code",
   "execution_count": 38,
   "metadata": {},
   "outputs": [
    {
     "data": {
      "image/png": "[encoded data removed]",
      "text/plain": [
       "<matplotlib.figure.Figure at 0x7fbc3f34fba8>"
      ]
     },
     "metadata": {},
     "output_type": "display_data"
    }
   ],
   "source": [
    "num_clusters = 4\n",
    "clusters = generate_data(num_clusters, seed=1)\n",
    "k_means = BisectingKMeans(num_clusters=num_clusters, seed=4235)\n",
    "k_means.fit(clusters)\n",
    "plot_clusters(clusters, k_means.labels_, k_means.centroids_)"
   ]
  },
  {
   "cell_type": "code",
   "execution_count": 39,
   "metadata": {},
   "outputs": [
    {
     "name": "stdout",
     "output_type": "stream",
     "text": [
      "Total SSE: 230.0880894560679\n"
     ]
    }
   ],
   "source": [
    "print('Total SSE: {}'.format(k_means.inertia_))"
   ]
  },
  {
   "cell_type": "code",
   "execution_count": 40,
   "metadata": {
    "scrolled": true
   },
   "outputs": [
    {
     "name": "stdout",
     "output_type": "stream",
     "text": [
      "Cluster 0 SSE: 34.94610880911604\n",
      "Cluster 1 SSE: 62.05904492709121\n",
      "Cluster 2 SSE: 92.94168571792414\n",
      "Cluster 3 SSE: 40.141250001936484\n"
     ]
    }
   ],
   "source": [
    "print_cluster_sse(k_means.inertia_per_cluster_)"
   ]
  },
  {
   "cell_type": "code",
   "execution_count": 41,
   "metadata": {},
   "outputs": [
    {
     "name": "stdout",
     "output_type": "stream",
     "text": [
      "Max inter-cluster distance: 8198.125728618705\n",
      "Min inter-cluster distance: 662.6807115639276\n"
     ]
    }
   ],
   "source": [
    "print_max_and_min_inter_cluster_distances(clusters, k_means.labels_)"
   ]
  },
  {
   "cell_type": "markdown",
   "metadata": {},
   "source": [
    "### Manhattan Distance"
   ]
  },
  {
   "cell_type": "code",
   "execution_count": 42,
   "metadata": {},
   "outputs": [
    {
     "data": {
      "image/png": "[encoded data removed]",
      "text/plain": [
       "<matplotlib.figure.Figure at 0x7fbc3f327e48>"
      ]
     },
     "metadata": {},
     "output_type": "display_data"
    }
   ],
   "source": [
    "num_clusters = 4\n",
    "k_means = BisectingKMeans(num_clusters=num_clusters,\n",
    "                          distance_function='manhattan',\n",
    "                          seed=4235)\n",
    "k_means.fit(clusters)\n",
    "plot_clusters(clusters, k_means.labels_, k_means.centroids_)"
   ]
  },
  {
   "cell_type": "code",
   "execution_count": 43,
   "metadata": {},
   "outputs": [
    {
     "name": "stdout",
     "output_type": "stream",
     "text": [
      "Total SSE: 80.04383808675396\n"
     ]
    }
   ],
   "source": [
    "print('Total SSE: {}'.format(k_means.inertia_))"
   ]
  },
  {
   "cell_type": "code",
   "execution_count": 44,
   "metadata": {
    "scrolled": true
   },
   "outputs": [
    {
     "name": "stdout",
     "output_type": "stream",
     "text": [
      "Cluster 0 SSE: 16.315050448318743\n",
      "Cluster 1 SSE: 22.784044491106805\n",
      "Cluster 2 SSE: 25.703033615570583\n",
      "Cluster 3 SSE: 15.241709531757827\n"
     ]
    }
   ],
   "source": [
    "print_cluster_sse(k_means.inertia_per_cluster_)"
   ]
  },
  {
   "cell_type": "code",
   "execution_count": 45,
   "metadata": {},
   "outputs": [
    {
     "name": "stdout",
     "output_type": "stream",
     "text": [
      "Max inter-cluster distance: 127.97102541650003\n",
      "Min inter-cluster distance: 32.41960133088744\n"
     ]
    }
   ],
   "source": [
    "print_max_and_min_inter_cluster_distances(clusters,\n",
    "                                          k_means.labels_,\n",
    "                                          distance_function='manhattan')"
   ]
  }
 ],
 "metadata": {
  "kernelspec": {
   "display_name": "Python 3",
   "language": "python",
   "name": "python3"
  },
  "language_info": {
   "codemirror_mode": {
    "name": "ipython",
    "version": 3
   },
   "file_extension": ".py",
   "mimetype": "text/x-python",
   "name": "python",
   "nbconvert_exporter": "python",
   "pygments_lexer": "ipython3",
   "version": "3.6.3"
  }
 },
 "nbformat": 4,
 "nbformat_minor": 2
}
